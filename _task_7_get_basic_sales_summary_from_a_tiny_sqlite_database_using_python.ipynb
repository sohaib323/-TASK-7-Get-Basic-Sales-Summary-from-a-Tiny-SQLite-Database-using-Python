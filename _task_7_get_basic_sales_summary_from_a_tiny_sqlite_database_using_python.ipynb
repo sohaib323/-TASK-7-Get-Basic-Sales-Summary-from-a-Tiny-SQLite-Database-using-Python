{
  "nbformat": 4,
  "nbformat_minor": 0,
  "metadata": {
    "colab": {
      "provenance": []
    },
    "kernelspec": {
      "name": "python3",
      "display_name": "Python 3"
    },
    "language_info": {
      "name": "python"
    }
  },
  "cells": [
    {
      "cell_type": "code",
      "execution_count": null,
      "metadata": {
        "id": "anG0OP2OomQl"
      },
      "outputs": [],
      "source": [
        "#####TASK 7: Get Basic Sales Summary from a Tiny SQLite Database using Python\n",
        "##Objective: Use SQL inside Python to pull simple sales info (like total quantity sold, total revenue), and\n",
        "### display it using basic print statements and a simple bar chart.\n"
      ]
    },
    {
      "cell_type": "code",
      "source": [
        "import sqlite3\n",
        "import pandas as pd\n",
        "import matplotlib.pyplot as plt\n",
        "\n",
        "# ------------------------------\n",
        "# 1. Create the SQLite database & table\n",
        "# ------------------------------\n",
        "conn = sqlite3.connect(\"sales_data.db\")\n",
        "cursor = conn.cursor()\n",
        "\n",
        "cursor.execute(\"DROP TABLE IF EXISTS sales\") ### we use cursor.execute for run sql query\n",
        "cursor.execute(\"\"\"\n",
        "CREATE TABLE sales (\n",
        "    id INTEGER PRIMARY KEY AUTOINCREMENT,\n",
        "    product TEXT,\n",
        "    quantity INTEGER,\n",
        "    price REAL\n",
        ")\n",
        "\"\"\")\n",
        "\n",
        "# insert sample data\n",
        "sample_data = [\n",
        "    ('Apples', 10, 0.5),\n",
        "    ('Bananas', 15, 0.3),\n",
        "    ('Oranges', 8, 0.7),\n",
        "    ('Apples', 5, 0.5),\n",
        "    ('Bananas', 12, 0.3),\n",
        "    ('Grapes', 20, 1.2),\n",
        "    ('Oranges', 4, 0.7),\n",
        "    ('Grapes', 10, 1.2)\n",
        "]\n",
        "\n",
        "cursor.executemany(\"INSERT INTO sales (product, quantity, price) VALUES (?, ?, ?)\", sample_data)\n",
        "\n",
        "conn.commit()\n",
        "\n",
        "# ------------------------------\n",
        "# 2. Run sales summary query into pandas DataFrame\n",
        "# ------------------------------\n",
        "query = \"\"\"\n",
        "SELECT\n",
        "    product,\n",
        "    SUM(quantity) AS total_qty,\n",
        "    SUM(quantity * price) AS revenue\n",
        "FROM sales\n",
        "GROUP BY product\n",
        "\"\"\"\n",
        "df = pd.read_sql_query(query, conn)\n",
        "\n",
        "# ------------------------------\n",
        "# 3. Print results\n",
        "# ------------------------------\n",
        "print(\"Sales Summary:\")\n",
        "print(df)\n",
        "\n",
        "\n",
        "# 4. Plot bar chart with matplotlib\n",
        "\n",
        "df.plot(kind='barh', x='product', y='revenue', color='skyblue')\n",
        "plt.title(\"Revenue by Product\")\n",
        "plt.xlabel(\"Product\")\n",
        "plt.ylabel(\"Revenue ($)\")\n",
        "plt.show()\n",
        "\n",
        "conn.close()\n"
      ],
      "metadata": {
        "colab": {
          "base_uri": "https://localhost:8080/",
          "height": 576
        },
        "id": "U05wMEy_ovv8",
        "outputId": "835800c1-9c36-4453-e78f-9e3fb6ecf24a"
      },
      "execution_count": null,
      "outputs": [
        {
          "output_type": "stream",
          "name": "stdout",
          "text": [
            "Sales Summary:\n",
            "   product  total_qty  revenue\n",
            "0   Apples         15      7.5\n",
            "1  Bananas         27      8.1\n",
            "2   Grapes         30     36.0\n",
            "3  Oranges         12      8.4\n"
          ]
        },
        {
          "output_type": "display_data",
          "data": {
            "text/plain": [
              "<Figure size 640x480 with 1 Axes>"
            ],
            "image/png": "[encoded data removed]"
          },
          "metadata": {}
        }
      ]
    },
    {
      "cell_type": "code",
      "source": [
        "## again second query\n",
        "\n",
        "task = sqlite3.connect('sales_data.db')\n",
        "\n",
        "subbu ='select id,product from sales'\n",
        "df = pd.read_sql_query(subbu,task)\n",
        "print(df)\n",
        "\n"
      ],
      "metadata": {
        "colab": {
          "base_uri": "https://localhost:8080/"
        },
        "id": "aZ1o-u-hty4T",
        "outputId": "2d8ee36e-db91-4dcc-b94a-2371cccc5f8c"
      },
      "execution_count": null,
      "outputs": [
        {
          "output_type": "stream",
          "name": "stdout",
          "text": [
            "   id  product\n",
            "0   1   Apples\n",
            "1   2  Bananas\n",
            "2   3  Oranges\n",
            "3   4   Apples\n",
            "4   5  Bananas\n",
            "5   6   Grapes\n",
            "6   7  Oranges\n",
            "7   8   Grapes\n"
          ]
        }
      ]
    },
    {
      "cell_type": "code",
      "source": [
        "### so this task 7 done successfully"
      ],
      "metadata": {
        "id": "W6htd5kMvYRg"
      },
      "execution_count": null,
      "outputs": []
    },
    {
      "cell_type": "code",
      "source": [
        "df['product'].value_counts()"
      ],
      "metadata": {
        "colab": {
          "base_uri": "https://localhost:8080/",
          "height": 241
        },
        "id": "zWYcpLoCymBj",
        "outputId": "fd416f40-c620-4603-f218-d2edf2d1b6a9"
      },
      "execution_count": null,
      "outputs": [
        {
          "output_type": "execute_result",
          "data": {
            "text/plain": [
              "product\n",
              "Apples     2\n",
              "Bananas    2\n",
              "Oranges    2\n",
              "Grapes     2\n",
              "Name: count, dtype: int64"
            ],
            "text/html": [
              "<div>\n",
              "<style scoped>\n",
              "    .dataframe tbody tr th:only-of-type {\n",
              "        vertical-align: middle;\n",
              "    }\n",
              "\n",
              "    .dataframe tbody tr th {\n",
              "        vertical-align: top;\n",
              "    }\n",
              "\n",
              "    .dataframe thead th {\n",
              "        text-align: right;\n",
              "    }\n",
              "</style>\n",
              "<table border=\"1\" class=\"dataframe\">\n",
              "  <thead>\n",
              "    <tr style=\"text-align: right;\">\n",
              "      <th></th>\n",
              "      <th>count</th>\n",
              "    </tr>\n",
              "    <tr>\n",
              "      <th>product</th>\n",
              "      <th></th>\n",
              "    </tr>\n",
              "  </thead>\n",
              "  <tbody>\n",
              "    <tr>\n",
              "      <th>Apples</th>\n",
              "      <td>2</td>\n",
              "    </tr>\n",
              "    <tr>\n",
              "      <th>Bananas</th>\n",
              "      <td>2</td>\n",
              "    </tr>\n",
              "    <tr>\n",
              "      <th>Oranges</th>\n",
              "      <td>2</td>\n",
              "    </tr>\n",
              "    <tr>\n",
              "      <th>Grapes</th>\n",
              "      <td>2</td>\n",
              "    </tr>\n",
              "  </tbody>\n",
              "</table>\n",
              "</div><br><label><b>dtype:</b> int64</label>"
            ]
          },
          "metadata": {},
          "execution_count": 10
        }
      ]
    },
    {
      "cell_type": "code",
      "source": [
        "df['product'].nunique()"
      ],
      "metadata": {
        "colab": {
          "base_uri": "https://localhost:8080/"
        },
        "id": "rF1ul733zpEx",
        "outputId": "708598df-f86e-4562-9cdb-632317e4b7ba"
      },
      "execution_count": null,
      "outputs": [
        {
          "output_type": "execute_result",
          "data": {
            "text/plain": [
              "4"
            ]
          },
          "metadata": {},
          "execution_count": 12
        }
      ]
    }
  ]
}